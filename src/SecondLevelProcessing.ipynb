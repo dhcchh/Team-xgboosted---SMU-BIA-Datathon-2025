{
 "cells": [
  {
   "cell_type": "code",
   "execution_count": 4,
   "id": "25bbe986-c67c-48dc-b479-efd4708a6c1f",
   "metadata": {
    "execution": {
     "iopub.execute_input": "2025-01-26T12:28:30.088592Z",
     "iopub.status.busy": "2025-01-26T12:28:30.088592Z",
     "iopub.status.idle": "2025-01-26T12:28:30.220563Z",
     "shell.execute_reply": "2025-01-26T12:28:30.220563Z",
     "shell.execute_reply.started": "2025-01-26T12:28:30.088592Z"
    }
   },
   "outputs": [],
   "source": [
    "import pandas as pd\n",
    "import json\n",
    "import re\n",
    "import os\n",
    "import numpy as np\n",
    "from datetime import datetime\n",
    "from process_helper import * "
   ]
  },
  {
   "cell_type": "code",
   "execution_count": 5,
   "id": "c9febf05-e50c-428c-8db8-bd2752e15b9b",
   "metadata": {
    "execution": {
     "iopub.execute_input": "2025-01-26T12:28:30.220563Z",
     "iopub.status.busy": "2025-01-26T12:28:30.220563Z",
     "iopub.status.idle": "2025-01-26T12:28:30.243252Z",
     "shell.execute_reply": "2025-01-26T12:28:30.243252Z",
     "shell.execute_reply.started": "2025-01-26T12:28:30.220563Z"
    }
   },
   "outputs": [],
   "source": [
    "leaks = pd.read_csv('processed_leaks_1.csv')\n",
    "news = pd.read_csv('processed_news_1.csv')"
   ]
  },
  {
   "cell_type": "code",
   "execution_count": 6,
   "id": "2b993027-f01f-4683-8b17-1f7dd376f7c1",
   "metadata": {
    "execution": {
     "iopub.execute_input": "2025-01-26T12:28:30.244255Z",
     "iopub.status.busy": "2025-01-26T12:28:30.243252Z",
     "iopub.status.idle": "2025-01-26T12:28:30.248384Z",
     "shell.execute_reply": "2025-01-26T12:28:30.248384Z",
     "shell.execute_reply.started": "2025-01-26T12:28:30.244255Z"
    }
   },
   "outputs": [
    {
     "name": "stdout",
     "output_type": "stream",
     "text": [
      "<class 'pandas.core.frame.DataFrame'>\n",
      "RangeIndex: 44 entries, 0 to 43\n",
      "Data columns (total 7 columns):\n",
      " #   Column       Non-Null Count  Dtype \n",
      "---  ------       --------------  ----- \n",
      " 0   Text         44 non-null     object\n",
      " 1   terrorism    44 non-null     bool  \n",
      " 2   security     44 non-null     bool  \n",
      " 3   espionage    44 non-null     bool  \n",
      " 4   communalism  44 non-null     bool  \n",
      " 5   keyword      44 non-null     bool  \n",
      " 6   response     43 non-null     object\n",
      "dtypes: bool(5), object(2)\n",
      "memory usage: 1.0+ KB\n"
     ]
    }
   ],
   "source": [
    "leaks.info()"
   ]
  },
  {
   "cell_type": "code",
   "execution_count": 7,
   "id": "4f6a6296-3127-4f63-912b-b5a4e0769df8",
   "metadata": {
    "execution": {
     "iopub.execute_input": "2025-01-26T12:28:30.249396Z",
     "iopub.status.busy": "2025-01-26T12:28:30.248384Z",
     "iopub.status.idle": "2025-01-26T12:28:30.256461Z",
     "shell.execute_reply": "2025-01-26T12:28:30.256461Z",
     "shell.execute_reply.started": "2025-01-26T12:28:30.249396Z"
    }
   },
   "outputs": [
    {
     "data": {
      "text/html": [
       "<div>\n",
       "<style scoped>\n",
       "    .dataframe tbody tr th:only-of-type {\n",
       "        vertical-align: middle;\n",
       "    }\n",
       "\n",
       "    .dataframe tbody tr th {\n",
       "        vertical-align: top;\n",
       "    }\n",
       "\n",
       "    .dataframe thead th {\n",
       "        text-align: right;\n",
       "    }\n",
       "</style>\n",
       "<table border=\"1\" class=\"dataframe\">\n",
       "  <thead>\n",
       "    <tr style=\"text-align: right;\">\n",
       "      <th></th>\n",
       "      <th>Text</th>\n",
       "      <th>terrorism</th>\n",
       "      <th>security</th>\n",
       "      <th>espionage</th>\n",
       "      <th>communalism</th>\n",
       "      <th>keyword</th>\n",
       "      <th>response</th>\n",
       "    </tr>\n",
       "  </thead>\n",
       "  <tbody>\n",
       "    <tr>\n",
       "      <th>0</th>\n",
       "      <td>Pristina Airport – Possible administrative irr...</td>\n",
       "      <td>False</td>\n",
       "      <td>False</td>\n",
       "      <td>False</td>\n",
       "      <td>False</td>\n",
       "      <td>False</td>\n",
       "      <td>Here is the metadata of the text in the reques...</td>\n",
       "    </tr>\n",
       "    <tr>\n",
       "      <th>1</th>\n",
       "      <td>\"An interoffice memorandum providing an “outst...</td>\n",
       "      <td>False</td>\n",
       "      <td>True</td>\n",
       "      <td>False</td>\n",
       "      <td>False</td>\n",
       "      <td>True</td>\n",
       "      <td>Here is the metadata of the text in the reques...</td>\n",
       "    </tr>\n",
       "    <tr>\n",
       "      <th>2</th>\n",
       "      <td>\"Description..This is a Secret US National Sec...</td>\n",
       "      <td>False</td>\n",
       "      <td>True</td>\n",
       "      <td>False</td>\n",
       "      <td>False</td>\n",
       "      <td>True</td>\n",
       "      <td>Here is the metadata of the text in JSON forma...</td>\n",
       "    </tr>\n",
       "    <tr>\n",
       "      <th>3</th>\n",
       "      <td>\"Tokyo's Climate Change Officials to Continue ...</td>\n",
       "      <td>False</td>\n",
       "      <td>False</td>\n",
       "      <td>False</td>\n",
       "      <td>False</td>\n",
       "      <td>False</td>\n",
       "      <td>{\\n    \"metadata\": [\\n        {\\n            \"...</td>\n",
       "    </tr>\n",
       "    <tr>\n",
       "      <th>4</th>\n",
       "      <td>\"Description..This is a secret US National Sec...</td>\n",
       "      <td>False</td>\n",
       "      <td>True</td>\n",
       "      <td>False</td>\n",
       "      <td>False</td>\n",
       "      <td>True</td>\n",
       "      <td>Here is the metadata of the text in the reques...</td>\n",
       "    </tr>\n",
       "  </tbody>\n",
       "</table>\n",
       "</div>"
      ],
      "text/plain": [
       "                                                Text  terrorism  security  \\\n",
       "0  Pristina Airport – Possible administrative irr...      False     False   \n",
       "1  \"An interoffice memorandum providing an “outst...      False      True   \n",
       "2  \"Description..This is a Secret US National Sec...      False      True   \n",
       "3  \"Tokyo's Climate Change Officials to Continue ...      False     False   \n",
       "4  \"Description..This is a secret US National Sec...      False      True   \n",
       "\n",
       "   espionage  communalism  keyword  \\\n",
       "0      False        False    False   \n",
       "1      False        False     True   \n",
       "2      False        False     True   \n",
       "3      False        False    False   \n",
       "4      False        False     True   \n",
       "\n",
       "                                            response  \n",
       "0  Here is the metadata of the text in the reques...  \n",
       "1  Here is the metadata of the text in the reques...  \n",
       "2  Here is the metadata of the text in JSON forma...  \n",
       "3  {\\n    \"metadata\": [\\n        {\\n            \"...  \n",
       "4  Here is the metadata of the text in the reques...  "
      ]
     },
     "execution_count": 7,
     "metadata": {},
     "output_type": "execute_result"
    }
   ],
   "source": [
    "leaks.head(5)"
   ]
  },
  {
   "cell_type": "code",
   "execution_count": 8,
   "id": "80ee2b87-0a55-44f7-a65b-a5990449b56e",
   "metadata": {
    "execution": {
     "iopub.execute_input": "2025-01-26T12:28:30.257464Z",
     "iopub.status.busy": "2025-01-26T12:28:30.257464Z",
     "iopub.status.idle": "2025-01-26T12:28:30.262577Z",
     "shell.execute_reply": "2025-01-26T12:28:30.262577Z",
     "shell.execute_reply.started": "2025-01-26T12:28:30.257464Z"
    }
   },
   "outputs": [
    {
     "name": "stdout",
     "output_type": "stream",
     "text": [
      "<class 'pandas.core.frame.DataFrame'>\n",
      "RangeIndex: 1509 entries, 0 to 1508\n",
      "Data columns (total 7 columns):\n",
      " #   Column       Non-Null Count  Dtype \n",
      "---  ------       --------------  ----- \n",
      " 0   Text         1509 non-null   object\n",
      " 1   terrorism    1509 non-null   bool  \n",
      " 2   security     1509 non-null   bool  \n",
      " 3   espionage    1509 non-null   bool  \n",
      " 4   communalism  1509 non-null   bool  \n",
      " 5   keyword      1509 non-null   bool  \n",
      " 6   response     1509 non-null   object\n",
      "dtypes: bool(5), object(2)\n",
      "memory usage: 31.1+ KB\n"
     ]
    }
   ],
   "source": [
    "news.info()"
   ]
  },
  {
   "cell_type": "code",
   "execution_count": 9,
   "id": "30e0ba7a-23de-45f0-b1fb-ad1e79278c47",
   "metadata": {
    "execution": {
     "iopub.execute_input": "2025-01-26T12:28:30.263711Z",
     "iopub.status.busy": "2025-01-26T12:28:30.262577Z",
     "iopub.status.idle": "2025-01-26T12:28:30.267766Z",
     "shell.execute_reply": "2025-01-26T12:28:30.267766Z",
     "shell.execute_reply.started": "2025-01-26T12:28:30.263711Z"
    }
   },
   "outputs": [
    {
     "data": {
      "text/html": [
       "<div>\n",
       "<style scoped>\n",
       "    .dataframe tbody tr th:only-of-type {\n",
       "        vertical-align: middle;\n",
       "    }\n",
       "\n",
       "    .dataframe tbody tr th {\n",
       "        vertical-align: top;\n",
       "    }\n",
       "\n",
       "    .dataframe thead th {\n",
       "        text-align: right;\n",
       "    }\n",
       "</style>\n",
       "<table border=\"1\" class=\"dataframe\">\n",
       "  <thead>\n",
       "    <tr style=\"text-align: right;\">\n",
       "      <th></th>\n",
       "      <th>Text</th>\n",
       "      <th>terrorism</th>\n",
       "      <th>security</th>\n",
       "      <th>espionage</th>\n",
       "      <th>communalism</th>\n",
       "      <th>keyword</th>\n",
       "      <th>response</th>\n",
       "    </tr>\n",
       "  </thead>\n",
       "  <tbody>\n",
       "    <tr>\n",
       "      <th>0</th>\n",
       "      <td>Starbucks violated federal labor law when it i...</td>\n",
       "      <td>False</td>\n",
       "      <td>False</td>\n",
       "      <td>False</td>\n",
       "      <td>False</td>\n",
       "      <td>False</td>\n",
       "      <td>Here is the metadata of the given text in the ...</td>\n",
       "    </tr>\n",
       "    <tr>\n",
       "      <th>1</th>\n",
       "      <td>The first suspect to plead guilty in Singapore...</td>\n",
       "      <td>False</td>\n",
       "      <td>False</td>\n",
       "      <td>False</td>\n",
       "      <td>False</td>\n",
       "      <td>False</td>\n",
       "      <td>Here is the metadata of the text in JSON forma...</td>\n",
       "    </tr>\n",
       "    <tr>\n",
       "      <th>2</th>\n",
       "      <td>Meta has been fined a record-breaking €1.2 bil...</td>\n",
       "      <td>False</td>\n",
       "      <td>False</td>\n",
       "      <td>False</td>\n",
       "      <td>False</td>\n",
       "      <td>False</td>\n",
       "      <td>Here is the metadata of the given text in JSON...</td>\n",
       "    </tr>\n",
       "    <tr>\n",
       "      <th>3</th>\n",
       "      <td>SINGAPORE: A 45-year-old man linked to Singapo...</td>\n",
       "      <td>False</td>\n",
       "      <td>False</td>\n",
       "      <td>False</td>\n",
       "      <td>False</td>\n",
       "      <td>False</td>\n",
       "      <td>Here is the metadata of the given text in the ...</td>\n",
       "    </tr>\n",
       "    <tr>\n",
       "      <th>4</th>\n",
       "      <td>The Department of Education imposed a record $...</td>\n",
       "      <td>False</td>\n",
       "      <td>True</td>\n",
       "      <td>False</td>\n",
       "      <td>False</td>\n",
       "      <td>True</td>\n",
       "      <td>Here is the metadata of the text in the reques...</td>\n",
       "    </tr>\n",
       "  </tbody>\n",
       "</table>\n",
       "</div>"
      ],
      "text/plain": [
       "                                                Text  terrorism  security  \\\n",
       "0  Starbucks violated federal labor law when it i...      False     False   \n",
       "1  The first suspect to plead guilty in Singapore...      False     False   \n",
       "2  Meta has been fined a record-breaking €1.2 bil...      False     False   \n",
       "3  SINGAPORE: A 45-year-old man linked to Singapo...      False     False   \n",
       "4  The Department of Education imposed a record $...      False      True   \n",
       "\n",
       "   espionage  communalism  keyword  \\\n",
       "0      False        False    False   \n",
       "1      False        False    False   \n",
       "2      False        False    False   \n",
       "3      False        False    False   \n",
       "4      False        False     True   \n",
       "\n",
       "                                            response  \n",
       "0  Here is the metadata of the given text in the ...  \n",
       "1  Here is the metadata of the text in JSON forma...  \n",
       "2  Here is the metadata of the given text in JSON...  \n",
       "3  Here is the metadata of the given text in the ...  \n",
       "4  Here is the metadata of the text in the reques...  "
      ]
     },
     "execution_count": 9,
     "metadata": {},
     "output_type": "execute_result"
    }
   ],
   "source": [
    "news.head(5)"
   ]
  },
  {
   "cell_type": "code",
   "execution_count": 10,
   "id": "cd3c18a1-7dae-44fe-a2e9-c726b28a699d",
   "metadata": {
    "execution": {
     "iopub.execute_input": "2025-01-26T12:28:30.268769Z",
     "iopub.status.busy": "2025-01-26T12:28:30.267766Z",
     "iopub.status.idle": "2025-01-26T12:28:30.273573Z",
     "shell.execute_reply": "2025-01-26T12:28:30.273573Z",
     "shell.execute_reply.started": "2025-01-26T12:28:30.268769Z"
    }
   },
   "outputs": [
    {
     "data": {
      "text/html": [
       "<div>\n",
       "<style scoped>\n",
       "    .dataframe tbody tr th:only-of-type {\n",
       "        vertical-align: middle;\n",
       "    }\n",
       "\n",
       "    .dataframe tbody tr th {\n",
       "        vertical-align: top;\n",
       "    }\n",
       "\n",
       "    .dataframe thead th {\n",
       "        text-align: right;\n",
       "    }\n",
       "</style>\n",
       "<table border=\"1\" class=\"dataframe\">\n",
       "  <thead>\n",
       "    <tr style=\"text-align: right;\">\n",
       "      <th></th>\n",
       "      <th>Text</th>\n",
       "      <th>terrorism</th>\n",
       "      <th>security</th>\n",
       "      <th>espionage</th>\n",
       "      <th>communalism</th>\n",
       "      <th>keyword</th>\n",
       "      <th>response</th>\n",
       "    </tr>\n",
       "  </thead>\n",
       "  <tbody>\n",
       "    <tr>\n",
       "      <th>17</th>\n",
       "      <td>Finance Assistant 1 claimed he had not noticed...</td>\n",
       "      <td>False</td>\n",
       "      <td>False</td>\n",
       "      <td>False</td>\n",
       "      <td>False</td>\n",
       "      <td>False</td>\n",
       "      <td>NaN</td>\n",
       "    </tr>\n",
       "  </tbody>\n",
       "</table>\n",
       "</div>"
      ],
      "text/plain": [
       "                                                 Text  terrorism  security  \\\n",
       "17  Finance Assistant 1 claimed he had not noticed...      False     False   \n",
       "\n",
       "    espionage  communalism  keyword response  \n",
       "17      False        False    False      NaN  "
      ]
     },
     "execution_count": 10,
     "metadata": {},
     "output_type": "execute_result"
    }
   ],
   "source": [
    "leaks[leaks['response'].isnull() == True]"
   ]
  },
  {
   "cell_type": "code",
   "execution_count": 11,
   "id": "25e22080-d073-4bf6-bcef-e781187dd917",
   "metadata": {
    "execution": {
     "iopub.execute_input": "2025-01-26T12:28:30.274578Z",
     "iopub.status.busy": "2025-01-26T12:28:30.273573Z",
     "iopub.status.idle": "2025-01-26T12:28:30.278931Z",
     "shell.execute_reply": "2025-01-26T12:28:30.278931Z",
     "shell.execute_reply.started": "2025-01-26T12:28:30.274578Z"
    }
   },
   "outputs": [],
   "source": [
    "# Function to remove anything that is not within curly braces {}\n",
    "def extract_within_curly_braces(text):\n",
    "    \"\"\"Extract content within the outermost curly braces only.\"\"\"\n",
    "    if not isinstance(text, str):  # Ensure input is a string\n",
    "        text = str(text)\n",
    "    \n",
    "    # Extract the content within the outermost curly braces\n",
    "    match = re.search(r\"\\{.*\\}\", text, re.DOTALL)\n",
    "    if match:\n",
    "        return match.group(0)\n",
    "    return \"\"\n",
    "\n",
    "leaks['response'] = leaks['response'].apply(extract_within_curly_braces)\n",
    "news['response'] = news['response'].apply(extract_within_curly_braces)"
   ]
  },
  {
   "cell_type": "code",
   "execution_count": 12,
   "id": "999bd12f-ef1a-48f6-a52c-7de4f97efd0a",
   "metadata": {
    "execution": {
     "iopub.execute_input": "2025-01-26T12:28:30.278931Z",
     "iopub.status.busy": "2025-01-26T12:28:30.278931Z",
     "iopub.status.idle": "2025-01-26T12:28:30.282262Z",
     "shell.execute_reply": "2025-01-26T12:28:30.282262Z",
     "shell.execute_reply.started": "2025-01-26T12:28:30.278931Z"
    }
   },
   "outputs": [
    {
     "name": "stdout",
     "output_type": "stream",
     "text": [
      "{\n",
      "    \"metadata\": {\n",
      "        \"earliest_date\": \"2003\",\n",
      "        \"terrorism\": false,\n",
      "        \"cyber_security\": false,\n",
      "        \"espionage\": true,\n",
      "        \"communalism\": false,\n",
      "        \"countries\": [\"Kosovo\", \"Slovenia\"]\n",
      "    }\n",
      "}\n",
      "{\n",
      "    \"metadata\": [\n",
      "        {\n",
      "            \"earliest_date\": null,\n",
      "            \"terrorism\": false,\n",
      "            \"cyber_security\": false,\n",
      "            \"espionage\": false,\n",
      "            \"communalism\": false,\n",
      "            \"countries\": []\n",
      "        }\n",
      "    ]\n",
      "}\n"
     ]
    }
   ],
   "source": [
    "print(leaks['response'].iloc[0])\n",
    "print(news['response'].iloc[0])"
   ]
  },
  {
   "cell_type": "code",
   "execution_count": 13,
   "id": "46e828e2-8d86-4f63-b7c4-2468853f6119",
   "metadata": {
    "execution": {
     "iopub.execute_input": "2025-01-26T12:28:30.283271Z",
     "iopub.status.busy": "2025-01-26T12:28:30.282262Z",
     "iopub.status.idle": "2025-01-26T12:28:30.286592Z",
     "shell.execute_reply": "2025-01-26T12:28:30.286592Z",
     "shell.execute_reply.started": "2025-01-26T12:28:30.283271Z"
    }
   },
   "outputs": [],
   "source": [
    "def extract_date_components(metadata):\n",
    "    if not isinstance(metadata, str):\n",
    "        return None, None, None  # Return None for all components if metadata is not a string\n",
    "\n",
    "    # Regular expressions to capture different date formats\n",
    "    date_patterns = [\n",
    "        r\"(\\b\\d{4}-\\d{2}-\\d{2}\\b)\",  # Matches YYYY-MM-DD\n",
    "        r\"(\\b\\d{2}/\\d{2}/\\d{4}\\b)\",  # Matches MM/DD/YYYY\n",
    "        r\"(\\b\\d{4}\\b)\"               # Matches YYYY\n",
    "    ]\n",
    "\n",
    "    for pattern in date_patterns:\n",
    "        match = re.search(pattern, metadata)\n",
    "        if match:\n",
    "            date_str = match.group(0)\n",
    "            try:\n",
    "                # Parse full dates (e.g., YYYY-MM-DD, MM/DD/YYYY)\n",
    "                if \"-\" in date_str:\n",
    "                    dt = datetime.strptime(date_str, \"%Y-%m-%d\")\n",
    "                elif \"/\" in date_str:\n",
    "                    dt = datetime.strptime(date_str, \"%m/%d/%Y\")\n",
    "                else:\n",
    "                    # If only the year is available\n",
    "                    return int(date_str), None, None\n",
    "                return dt.year, dt.month, dt.day\n",
    "            except ValueError:\n",
    "                continue\n",
    "    return None, None, None\n",
    "\n",
    "def extract_countries(metadata):\n",
    "    if not isinstance(metadata, str):\n",
    "        return None\n",
    "    # Regex to identify capitalized words (potential country names)\n",
    "    country_pattern = r\"\\b[A-Z][a-z]+\\b\"\n",
    "    countries = re.findall(country_pattern, metadata)\n",
    "    return \", \".join(countries) if countries else None"
   ]
  },
  {
   "cell_type": "code",
   "execution_count": 14,
   "id": "74f1541e-80bc-4f1b-b4e3-a304a2242d2e",
   "metadata": {
    "execution": {
     "iopub.execute_input": "2025-01-26T12:28:30.287667Z",
     "iopub.status.busy": "2025-01-26T12:28:30.286592Z",
     "iopub.status.idle": "2025-01-26T12:28:30.351775Z",
     "shell.execute_reply": "2025-01-26T12:28:30.351775Z",
     "shell.execute_reply.started": "2025-01-26T12:28:30.287667Z"
    }
   },
   "outputs": [],
   "source": [
    "leaks['countries'] = leaks['response'].apply(extract_countries)\n",
    "leaks['year'], leaks['month'], leaks['day'] = zip(\n",
    "    *leaks['response'].apply(extract_date_components)\n",
    ")\n",
    "\n",
    "news['countries'] = news['response'].apply(extract_countries)\n",
    "news['year'], news['month'], news['day'] = zip(\n",
    "    *news['response'].apply(extract_date_components)\n",
    ")"
   ]
  },
  {
   "cell_type": "code",
   "execution_count": 15,
   "id": "037f5e6a-637c-4423-a7c0-c580fd41c81a",
   "metadata": {
    "execution": {
     "iopub.execute_input": "2025-01-26T12:28:30.352778Z",
     "iopub.status.busy": "2025-01-26T12:28:30.351775Z",
     "iopub.status.idle": "2025-01-26T12:28:30.356651Z",
     "shell.execute_reply": "2025-01-26T12:28:30.356651Z",
     "shell.execute_reply.started": "2025-01-26T12:28:30.352778Z"
    }
   },
   "outputs": [
    {
     "name": "stdout",
     "output_type": "stream",
     "text": [
      "<class 'pandas.core.frame.DataFrame'>\n",
      "RangeIndex: 44 entries, 0 to 43\n",
      "Data columns (total 11 columns):\n",
      " #   Column       Non-Null Count  Dtype  \n",
      "---  ------       --------------  -----  \n",
      " 0   Text         44 non-null     object \n",
      " 1   terrorism    44 non-null     bool   \n",
      " 2   security     44 non-null     bool   \n",
      " 3   espionage    44 non-null     bool   \n",
      " 4   communalism  44 non-null     bool   \n",
      " 5   keyword      44 non-null     bool   \n",
      " 6   response     44 non-null     object \n",
      " 7   countries    42 non-null     object \n",
      " 8   year         31 non-null     float64\n",
      " 9   month        25 non-null     float64\n",
      " 10  day          25 non-null     float64\n",
      "dtypes: bool(5), float64(3), object(3)\n",
      "memory usage: 2.4+ KB\n"
     ]
    }
   ],
   "source": [
    "leaks.info()"
   ]
  },
  {
   "cell_type": "code",
   "execution_count": 16,
   "id": "c8519ef2-56bd-4c12-8328-a4c0c684b7ee",
   "metadata": {
    "execution": {
     "iopub.execute_input": "2025-01-26T12:28:30.356651Z",
     "iopub.status.busy": "2025-01-26T12:28:30.356651Z",
     "iopub.status.idle": "2025-01-26T12:28:30.361436Z",
     "shell.execute_reply": "2025-01-26T12:28:30.361436Z",
     "shell.execute_reply.started": "2025-01-26T12:28:30.356651Z"
    }
   },
   "outputs": [
    {
     "name": "stdout",
     "output_type": "stream",
     "text": [
      "<class 'pandas.core.frame.DataFrame'>\n",
      "RangeIndex: 1509 entries, 0 to 1508\n",
      "Data columns (total 11 columns):\n",
      " #   Column       Non-Null Count  Dtype  \n",
      "---  ------       --------------  -----  \n",
      " 0   Text         1509 non-null   object \n",
      " 1   terrorism    1509 non-null   bool   \n",
      " 2   security     1509 non-null   bool   \n",
      " 3   espionage    1509 non-null   bool   \n",
      " 4   communalism  1509 non-null   bool   \n",
      " 5   keyword      1509 non-null   bool   \n",
      " 6   response     1509 non-null   object \n",
      " 7   countries    1376 non-null   object \n",
      " 8   year         790 non-null    float64\n",
      " 9   month        575 non-null    float64\n",
      " 10  day          575 non-null    float64\n",
      "dtypes: bool(5), float64(3), object(3)\n",
      "memory usage: 78.2+ KB\n"
     ]
    }
   ],
   "source": [
    "news.info()"
   ]
  },
  {
   "cell_type": "code",
   "execution_count": 17,
   "id": "44055e72-90b4-4fef-8565-10b7e3bf8234",
   "metadata": {
    "execution": {
     "iopub.execute_input": "2025-01-26T12:28:30.362438Z",
     "iopub.status.busy": "2025-01-26T12:28:30.361436Z",
     "iopub.status.idle": "2025-01-26T12:28:30.367902Z",
     "shell.execute_reply": "2025-01-26T12:28:30.367902Z",
     "shell.execute_reply.started": "2025-01-26T12:28:30.362438Z"
    }
   },
   "outputs": [],
   "source": [
    "leaks['countries'] = leaks['countries'].fillna('NA')\n",
    "leaks['year'] = leaks['year'].fillna(0).astype(int)\n",
    "leaks['month'] = leaks['month'].fillna(0).astype(int)\n",
    "leaks['day'] = leaks['day'].fillna(0).astype(int)\n",
    "news['year'] = news['year'].fillna(0).astype(int)\n",
    "news['month'] = news['month'].fillna(0).astype(int)\n",
    "news['day'] = news['day'].fillna(0).astype(int)\n",
    "news['countries'] = news['countries'].fillna('NA').astype(str)\n",
    "news['countries'] = news['countries'].str.replace(r'(True|False),?\\s*', '', regex=True).str.strip()\n",
    "news['countries'] = news['countries'].fillna('NA').astype(str)"
   ]
  },
  {
   "cell_type": "code",
   "execution_count": 18,
   "id": "cd03e043-0eb1-473c-b2de-565a57becf3c",
   "metadata": {
    "execution": {
     "iopub.execute_input": "2025-01-26T12:28:30.367902Z",
     "iopub.status.busy": "2025-01-26T12:28:30.367902Z",
     "iopub.status.idle": "2025-01-26T12:28:30.370818Z",
     "shell.execute_reply": "2025-01-26T12:28:30.370818Z",
     "shell.execute_reply.started": "2025-01-26T12:28:30.367902Z"
    }
   },
   "outputs": [],
   "source": [
    "leaks.rename(columns={'Text': 'text'}, inplace=True)\n",
    "news.rename(columns={'Text': 'text'}, inplace=True)"
   ]
  },
  {
   "cell_type": "code",
   "execution_count": 19,
   "id": "e12112f7-a1b0-488b-9ba4-29ff867f8681",
   "metadata": {
    "execution": {
     "iopub.execute_input": "2025-01-26T12:28:30.370818Z",
     "iopub.status.busy": "2025-01-26T12:28:30.370818Z",
     "iopub.status.idle": "2025-01-26T12:28:30.377032Z",
     "shell.execute_reply": "2025-01-26T12:28:30.377032Z",
     "shell.execute_reply.started": "2025-01-26T12:28:30.370818Z"
    }
   },
   "outputs": [
    {
     "data": {
      "text/html": [
       "<div>\n",
       "<style scoped>\n",
       "    .dataframe tbody tr th:only-of-type {\n",
       "        vertical-align: middle;\n",
       "    }\n",
       "\n",
       "    .dataframe tbody tr th {\n",
       "        vertical-align: top;\n",
       "    }\n",
       "\n",
       "    .dataframe thead th {\n",
       "        text-align: right;\n",
       "    }\n",
       "</style>\n",
       "<table border=\"1\" class=\"dataframe\">\n",
       "  <thead>\n",
       "    <tr style=\"text-align: right;\">\n",
       "      <th></th>\n",
       "      <th>text</th>\n",
       "      <th>terrorism</th>\n",
       "      <th>security</th>\n",
       "      <th>espionage</th>\n",
       "      <th>communalism</th>\n",
       "      <th>keyword</th>\n",
       "      <th>response</th>\n",
       "      <th>countries</th>\n",
       "      <th>year</th>\n",
       "      <th>month</th>\n",
       "      <th>day</th>\n",
       "    </tr>\n",
       "  </thead>\n",
       "  <tbody>\n",
       "    <tr>\n",
       "      <th>0</th>\n",
       "      <td>Pristina Airport – Possible administrative irr...</td>\n",
       "      <td>False</td>\n",
       "      <td>False</td>\n",
       "      <td>False</td>\n",
       "      <td>False</td>\n",
       "      <td>False</td>\n",
       "      <td>{\\n    \"metadata\": {\\n        \"earliest_date\":...</td>\n",
       "      <td>Kosovo, Slovenia</td>\n",
       "      <td>2003</td>\n",
       "      <td>0</td>\n",
       "      <td>0</td>\n",
       "    </tr>\n",
       "    <tr>\n",
       "      <th>1</th>\n",
       "      <td>\"An interoffice memorandum providing an “outst...</td>\n",
       "      <td>False</td>\n",
       "      <td>True</td>\n",
       "      <td>False</td>\n",
       "      <td>False</td>\n",
       "      <td>True</td>\n",
       "      <td>{\\n    \"metadata\": [\\n        {\\n            \"...</td>\n",
       "      <td>Kosovo</td>\n",
       "      <td>2001</td>\n",
       "      <td>5</td>\n",
       "      <td>18</td>\n",
       "    </tr>\n",
       "    <tr>\n",
       "      <th>2</th>\n",
       "      <td>\"Description..This is a Secret US National Sec...</td>\n",
       "      <td>False</td>\n",
       "      <td>True</td>\n",
       "      <td>False</td>\n",
       "      <td>False</td>\n",
       "      <td>True</td>\n",
       "      <td>{\\n    \"metadata\": [\\n        {\\n            \"...</td>\n",
       "      <td>United, States, Japan</td>\n",
       "      <td>0</td>\n",
       "      <td>0</td>\n",
       "      <td>0</td>\n",
       "    </tr>\n",
       "    <tr>\n",
       "      <th>3</th>\n",
       "      <td>\"Tokyo's Climate Change Officials to Continue ...</td>\n",
       "      <td>False</td>\n",
       "      <td>False</td>\n",
       "      <td>False</td>\n",
       "      <td>False</td>\n",
       "      <td>False</td>\n",
       "      <td>{\\n    \"metadata\": [\\n        {\\n            \"...</td>\n",
       "      <td>Japan, China, India, United, States, Europe, E...</td>\n",
       "      <td>0</td>\n",
       "      <td>0</td>\n",
       "      <td>0</td>\n",
       "    </tr>\n",
       "    <tr>\n",
       "      <th>4</th>\n",
       "      <td>\"Description..This is a secret US National Sec...</td>\n",
       "      <td>False</td>\n",
       "      <td>True</td>\n",
       "      <td>False</td>\n",
       "      <td>False</td>\n",
       "      <td>True</td>\n",
       "      <td>{\\n    \"metadata\": [\\n        {\\n            \"...</td>\n",
       "      <td>Japan, United, States, Australia, Canada, Grea...</td>\n",
       "      <td>2008</td>\n",
       "      <td>0</td>\n",
       "      <td>0</td>\n",
       "    </tr>\n",
       "  </tbody>\n",
       "</table>\n",
       "</div>"
      ],
      "text/plain": [
       "                                                text  terrorism  security  \\\n",
       "0  Pristina Airport – Possible administrative irr...      False     False   \n",
       "1  \"An interoffice memorandum providing an “outst...      False      True   \n",
       "2  \"Description..This is a Secret US National Sec...      False      True   \n",
       "3  \"Tokyo's Climate Change Officials to Continue ...      False     False   \n",
       "4  \"Description..This is a secret US National Sec...      False      True   \n",
       "\n",
       "   espionage  communalism  keyword  \\\n",
       "0      False        False    False   \n",
       "1      False        False     True   \n",
       "2      False        False     True   \n",
       "3      False        False    False   \n",
       "4      False        False     True   \n",
       "\n",
       "                                            response  \\\n",
       "0  {\\n    \"metadata\": {\\n        \"earliest_date\":...   \n",
       "1  {\\n    \"metadata\": [\\n        {\\n            \"...   \n",
       "2  {\\n    \"metadata\": [\\n        {\\n            \"...   \n",
       "3  {\\n    \"metadata\": [\\n        {\\n            \"...   \n",
       "4  {\\n    \"metadata\": [\\n        {\\n            \"...   \n",
       "\n",
       "                                           countries  year  month  day  \n",
       "0                                   Kosovo, Slovenia  2003      0    0  \n",
       "1                                             Kosovo  2001      5   18  \n",
       "2                              United, States, Japan     0      0    0  \n",
       "3  Japan, China, India, United, States, Europe, E...     0      0    0  \n",
       "4  Japan, United, States, Australia, Canada, Grea...  2008      0    0  "
      ]
     },
     "execution_count": 19,
     "metadata": {},
     "output_type": "execute_result"
    }
   ],
   "source": [
    "leaks.head()"
   ]
  },
  {
   "cell_type": "code",
   "execution_count": 20,
   "id": "13286831-253e-47ea-aa85-8beb3ab28439",
   "metadata": {
    "execution": {
     "iopub.execute_input": "2025-01-26T12:28:30.377032Z",
     "iopub.status.busy": "2025-01-26T12:28:30.377032Z",
     "iopub.status.idle": "2025-01-26T12:28:30.382174Z",
     "shell.execute_reply": "2025-01-26T12:28:30.382174Z",
     "shell.execute_reply.started": "2025-01-26T12:28:30.377032Z"
    }
   },
   "outputs": [
    {
     "name": "stdout",
     "output_type": "stream",
     "text": [
      "<class 'pandas.core.frame.DataFrame'>\n",
      "RangeIndex: 44 entries, 0 to 43\n",
      "Data columns (total 11 columns):\n",
      " #   Column       Non-Null Count  Dtype \n",
      "---  ------       --------------  ----- \n",
      " 0   text         44 non-null     object\n",
      " 1   terrorism    44 non-null     bool  \n",
      " 2   security     44 non-null     bool  \n",
      " 3   espionage    44 non-null     bool  \n",
      " 4   communalism  44 non-null     bool  \n",
      " 5   keyword      44 non-null     bool  \n",
      " 6   response     44 non-null     object\n",
      " 7   countries    44 non-null     object\n",
      " 8   year         44 non-null     int32 \n",
      " 9   month        44 non-null     int32 \n",
      " 10  day          44 non-null     int32 \n",
      "dtypes: bool(5), int32(3), object(3)\n",
      "memory usage: 1.9+ KB\n"
     ]
    }
   ],
   "source": [
    "leaks.info()"
   ]
  },
  {
   "cell_type": "code",
   "execution_count": 21,
   "id": "e87b723a-e5ba-487a-993c-8855d3472786",
   "metadata": {
    "execution": {
     "iopub.execute_input": "2025-01-26T12:28:30.383294Z",
     "iopub.status.busy": "2025-01-26T12:28:30.382174Z",
     "iopub.status.idle": "2025-01-26T12:28:30.388178Z",
     "shell.execute_reply": "2025-01-26T12:28:30.388178Z",
     "shell.execute_reply.started": "2025-01-26T12:28:30.383294Z"
    }
   },
   "outputs": [
    {
     "name": "stdout",
     "output_type": "stream",
     "text": [
      "<class 'pandas.core.frame.DataFrame'>\n",
      "RangeIndex: 1509 entries, 0 to 1508\n",
      "Data columns (total 11 columns):\n",
      " #   Column       Non-Null Count  Dtype \n",
      "---  ------       --------------  ----- \n",
      " 0   text         1509 non-null   object\n",
      " 1   terrorism    1509 non-null   bool  \n",
      " 2   security     1509 non-null   bool  \n",
      " 3   espionage    1509 non-null   bool  \n",
      " 4   communalism  1509 non-null   bool  \n",
      " 5   keyword      1509 non-null   bool  \n",
      " 6   response     1509 non-null   object\n",
      " 7   countries    1509 non-null   object\n",
      " 8   year         1509 non-null   int32 \n",
      " 9   month        1509 non-null   int32 \n",
      " 10  day          1509 non-null   int32 \n",
      "dtypes: bool(5), int32(3), object(3)\n",
      "memory usage: 60.5+ KB\n"
     ]
    }
   ],
   "source": [
    "news.info()"
   ]
  },
  {
   "cell_type": "code",
   "execution_count": 22,
   "id": "b22b39ec-1599-479a-9a85-7c092e22e8c8",
   "metadata": {
    "execution": {
     "iopub.execute_input": "2025-01-26T12:28:30.389184Z",
     "iopub.status.busy": "2025-01-26T12:28:30.388178Z",
     "iopub.status.idle": "2025-01-26T12:28:30.394022Z",
     "shell.execute_reply": "2025-01-26T12:28:30.394022Z",
     "shell.execute_reply.started": "2025-01-26T12:28:30.389184Z"
    }
   },
   "outputs": [
    {
     "data": {
      "text/html": [
       "<div>\n",
       "<style scoped>\n",
       "    .dataframe tbody tr th:only-of-type {\n",
       "        vertical-align: middle;\n",
       "    }\n",
       "\n",
       "    .dataframe tbody tr th {\n",
       "        vertical-align: top;\n",
       "    }\n",
       "\n",
       "    .dataframe thead th {\n",
       "        text-align: right;\n",
       "    }\n",
       "</style>\n",
       "<table border=\"1\" class=\"dataframe\">\n",
       "  <thead>\n",
       "    <tr style=\"text-align: right;\">\n",
       "      <th></th>\n",
       "      <th>text</th>\n",
       "      <th>terrorism</th>\n",
       "      <th>security</th>\n",
       "      <th>espionage</th>\n",
       "      <th>communalism</th>\n",
       "      <th>keyword</th>\n",
       "      <th>response</th>\n",
       "      <th>countries</th>\n",
       "      <th>year</th>\n",
       "      <th>month</th>\n",
       "      <th>day</th>\n",
       "    </tr>\n",
       "  </thead>\n",
       "  <tbody>\n",
       "    <tr>\n",
       "      <th>0</th>\n",
       "      <td>Starbucks violated federal labor law when it i...</td>\n",
       "      <td>False</td>\n",
       "      <td>False</td>\n",
       "      <td>False</td>\n",
       "      <td>False</td>\n",
       "      <td>False</td>\n",
       "      <td>{\\n    \"metadata\": [\\n        {\\n            \"...</td>\n",
       "      <td>NA</td>\n",
       "      <td>0</td>\n",
       "      <td>0</td>\n",
       "      <td>0</td>\n",
       "    </tr>\n",
       "    <tr>\n",
       "      <th>1</th>\n",
       "      <td>The first suspect to plead guilty in Singapore...</td>\n",
       "      <td>False</td>\n",
       "      <td>False</td>\n",
       "      <td>False</td>\n",
       "      <td>False</td>\n",
       "      <td>False</td>\n",
       "      <td>{\\n    \"metadata\": {\\n        \"earliest_date\":...</td>\n",
       "      <td>Singapore, Cambodia, China</td>\n",
       "      <td>2019</td>\n",
       "      <td>4</td>\n",
       "      <td>2</td>\n",
       "    </tr>\n",
       "    <tr>\n",
       "      <th>2</th>\n",
       "      <td>Meta has been fined a record-breaking €1.2 bil...</td>\n",
       "      <td>False</td>\n",
       "      <td>False</td>\n",
       "      <td>False</td>\n",
       "      <td>False</td>\n",
       "      <td>False</td>\n",
       "      <td>{\\n    \"metadata\": [\\n        {\\n            \"...</td>\n",
       "      <td>European, Union, United, States</td>\n",
       "      <td>0</td>\n",
       "      <td>0</td>\n",
       "      <td>0</td>\n",
       "    </tr>\n",
       "    <tr>\n",
       "      <th>3</th>\n",
       "      <td>SINGAPORE: A 45-year-old man linked to Singapo...</td>\n",
       "      <td>False</td>\n",
       "      <td>False</td>\n",
       "      <td>False</td>\n",
       "      <td>False</td>\n",
       "      <td>False</td>\n",
       "      <td>{\\n    \"metadata\": {\\n        \"earliest_date\":...</td>\n",
       "      <td>Singapore</td>\n",
       "      <td>2019</td>\n",
       "      <td>4</td>\n",
       "      <td>30</td>\n",
       "    </tr>\n",
       "    <tr>\n",
       "      <th>4</th>\n",
       "      <td>The Department of Education imposed a record $...</td>\n",
       "      <td>False</td>\n",
       "      <td>True</td>\n",
       "      <td>False</td>\n",
       "      <td>False</td>\n",
       "      <td>True</td>\n",
       "      <td>{\\n  \"metadata\": [\\n    {\\n      \"earliest_dat...</td>\n",
       "      <td>United, States, Virginia</td>\n",
       "      <td>2022</td>\n",
       "      <td>0</td>\n",
       "      <td>0</td>\n",
       "    </tr>\n",
       "  </tbody>\n",
       "</table>\n",
       "</div>"
      ],
      "text/plain": [
       "                                                text  terrorism  security  \\\n",
       "0  Starbucks violated federal labor law when it i...      False     False   \n",
       "1  The first suspect to plead guilty in Singapore...      False     False   \n",
       "2  Meta has been fined a record-breaking €1.2 bil...      False     False   \n",
       "3  SINGAPORE: A 45-year-old man linked to Singapo...      False     False   \n",
       "4  The Department of Education imposed a record $...      False      True   \n",
       "\n",
       "   espionage  communalism  keyword  \\\n",
       "0      False        False    False   \n",
       "1      False        False    False   \n",
       "2      False        False    False   \n",
       "3      False        False    False   \n",
       "4      False        False     True   \n",
       "\n",
       "                                            response  \\\n",
       "0  {\\n    \"metadata\": [\\n        {\\n            \"...   \n",
       "1  {\\n    \"metadata\": {\\n        \"earliest_date\":...   \n",
       "2  {\\n    \"metadata\": [\\n        {\\n            \"...   \n",
       "3  {\\n    \"metadata\": {\\n        \"earliest_date\":...   \n",
       "4  {\\n  \"metadata\": [\\n    {\\n      \"earliest_dat...   \n",
       "\n",
       "                         countries  year  month  day  \n",
       "0                               NA     0      0    0  \n",
       "1       Singapore, Cambodia, China  2019      4    2  \n",
       "2  European, Union, United, States     0      0    0  \n",
       "3                        Singapore  2019      4   30  \n",
       "4         United, States, Virginia  2022      0    0  "
      ]
     },
     "execution_count": 22,
     "metadata": {},
     "output_type": "execute_result"
    }
   ],
   "source": [
    "news.head(5)"
   ]
  },
  {
   "cell_type": "code",
   "execution_count": 23,
   "id": "62138f5d-26cc-436a-859c-3fd8d2c5dab2",
   "metadata": {
    "execution": {
     "iopub.execute_input": "2025-01-26T12:28:30.394022Z",
     "iopub.status.busy": "2025-01-26T12:28:30.394022Z",
     "iopub.status.idle": "2025-01-26T12:28:30.397135Z",
     "shell.execute_reply": "2025-01-26T12:28:30.397135Z",
     "shell.execute_reply.started": "2025-01-26T12:28:30.394022Z"
    }
   },
   "outputs": [
    {
     "data": {
      "text/plain": [
       "'China'"
      ]
     },
     "execution_count": 23,
     "metadata": {},
     "output_type": "execute_result"
    }
   ],
   "source": [
    "news['countries'][1493]"
   ]
  },
  {
   "cell_type": "code",
   "execution_count": 24,
   "id": "0b7fc239-a215-4039-bfb0-b84a8cc97a68",
   "metadata": {
    "execution": {
     "iopub.execute_input": "2025-01-26T12:28:30.397135Z",
     "iopub.status.busy": "2025-01-26T12:28:30.397135Z",
     "iopub.status.idle": "2025-01-26T12:28:30.403681Z",
     "shell.execute_reply": "2025-01-26T12:28:30.403681Z",
     "shell.execute_reply.started": "2025-01-26T12:28:30.397135Z"
    }
   },
   "outputs": [
    {
     "data": {
      "text/html": [
       "<div>\n",
       "<style scoped>\n",
       "    .dataframe tbody tr th:only-of-type {\n",
       "        vertical-align: middle;\n",
       "    }\n",
       "\n",
       "    .dataframe tbody tr th {\n",
       "        vertical-align: top;\n",
       "    }\n",
       "\n",
       "    .dataframe thead th {\n",
       "        text-align: right;\n",
       "    }\n",
       "</style>\n",
       "<table border=\"1\" class=\"dataframe\">\n",
       "  <thead>\n",
       "    <tr style=\"text-align: right;\">\n",
       "      <th></th>\n",
       "      <th>text</th>\n",
       "      <th>terrorism</th>\n",
       "      <th>security</th>\n",
       "      <th>espionage</th>\n",
       "      <th>communalism</th>\n",
       "      <th>keyword</th>\n",
       "      <th>response</th>\n",
       "      <th>countries</th>\n",
       "      <th>year</th>\n",
       "      <th>month</th>\n",
       "      <th>day</th>\n",
       "    </tr>\n",
       "  </thead>\n",
       "  <tbody>\n",
       "    <tr>\n",
       "      <th>0</th>\n",
       "      <td>Starbucks violated federal labor law when it i...</td>\n",
       "      <td>False</td>\n",
       "      <td>False</td>\n",
       "      <td>False</td>\n",
       "      <td>False</td>\n",
       "      <td>False</td>\n",
       "      <td>{\\n    \"metadata\": [\\n        {\\n            \"...</td>\n",
       "      <td>NA</td>\n",
       "      <td>0</td>\n",
       "      <td>0</td>\n",
       "      <td>0</td>\n",
       "    </tr>\n",
       "    <tr>\n",
       "      <th>1</th>\n",
       "      <td>The first suspect to plead guilty in Singapore...</td>\n",
       "      <td>False</td>\n",
       "      <td>False</td>\n",
       "      <td>False</td>\n",
       "      <td>False</td>\n",
       "      <td>False</td>\n",
       "      <td>{\\n    \"metadata\": {\\n        \"earliest_date\":...</td>\n",
       "      <td>Singapore, Cambodia, China</td>\n",
       "      <td>2019</td>\n",
       "      <td>4</td>\n",
       "      <td>2</td>\n",
       "    </tr>\n",
       "    <tr>\n",
       "      <th>2</th>\n",
       "      <td>Meta has been fined a record-breaking €1.2 bil...</td>\n",
       "      <td>False</td>\n",
       "      <td>False</td>\n",
       "      <td>False</td>\n",
       "      <td>False</td>\n",
       "      <td>False</td>\n",
       "      <td>{\\n    \"metadata\": [\\n        {\\n            \"...</td>\n",
       "      <td>European, Union, United, States</td>\n",
       "      <td>0</td>\n",
       "      <td>0</td>\n",
       "      <td>0</td>\n",
       "    </tr>\n",
       "    <tr>\n",
       "      <th>3</th>\n",
       "      <td>SINGAPORE: A 45-year-old man linked to Singapo...</td>\n",
       "      <td>False</td>\n",
       "      <td>False</td>\n",
       "      <td>False</td>\n",
       "      <td>False</td>\n",
       "      <td>False</td>\n",
       "      <td>{\\n    \"metadata\": {\\n        \"earliest_date\":...</td>\n",
       "      <td>Singapore</td>\n",
       "      <td>2019</td>\n",
       "      <td>4</td>\n",
       "      <td>30</td>\n",
       "    </tr>\n",
       "    <tr>\n",
       "      <th>4</th>\n",
       "      <td>The Department of Education imposed a record $...</td>\n",
       "      <td>False</td>\n",
       "      <td>True</td>\n",
       "      <td>False</td>\n",
       "      <td>False</td>\n",
       "      <td>True</td>\n",
       "      <td>{\\n  \"metadata\": [\\n    {\\n      \"earliest_dat...</td>\n",
       "      <td>United, States, Virginia</td>\n",
       "      <td>2022</td>\n",
       "      <td>0</td>\n",
       "      <td>0</td>\n",
       "    </tr>\n",
       "    <tr>\n",
       "      <th>...</th>\n",
       "      <td>...</td>\n",
       "      <td>...</td>\n",
       "      <td>...</td>\n",
       "      <td>...</td>\n",
       "      <td>...</td>\n",
       "      <td>...</td>\n",
       "      <td>...</td>\n",
       "      <td>...</td>\n",
       "      <td>...</td>\n",
       "      <td>...</td>\n",
       "      <td>...</td>\n",
       "    </tr>\n",
       "    <tr>\n",
       "      <th>1504</th>\n",
       "      <td>NOT A SURPRISE FOR INDUSTRY FOLLOWERS..It is h...</td>\n",
       "      <td>False</td>\n",
       "      <td>False</td>\n",
       "      <td>False</td>\n",
       "      <td>False</td>\n",
       "      <td>False</td>\n",
       "      <td>{\\n    \"metadata\": [\\n        {\\n            \"...</td>\n",
       "      <td>Malaysia</td>\n",
       "      <td>0</td>\n",
       "      <td>0</td>\n",
       "      <td>0</td>\n",
       "    </tr>\n",
       "    <tr>\n",
       "      <th>1505</th>\n",
       "      <td>Ahead of the Tokyo 2020 Olympics, Japan prohib...</td>\n",
       "      <td>False</td>\n",
       "      <td>False</td>\n",
       "      <td>False</td>\n",
       "      <td>False</td>\n",
       "      <td>False</td>\n",
       "      <td>{\\n    \"metadata\": [\\n        {\\n            \"...</td>\n",
       "      <td>Japan, Australia, Singapore</td>\n",
       "      <td>2019</td>\n",
       "      <td>0</td>\n",
       "      <td>0</td>\n",
       "    </tr>\n",
       "    <tr>\n",
       "      <th>1506</th>\n",
       "      <td>At a court hearing on Monday in the city of Ki...</td>\n",
       "      <td>False</td>\n",
       "      <td>False</td>\n",
       "      <td>False</td>\n",
       "      <td>False</td>\n",
       "      <td>False</td>\n",
       "      <td>{\\n    \"metadata\": [\\n        \"earliest_date\":...</td>\n",
       "      <td>Germany</td>\n",
       "      <td>2015</td>\n",
       "      <td>7</td>\n",
       "      <td>1</td>\n",
       "    </tr>\n",
       "    <tr>\n",
       "      <th>1507</th>\n",
       "      <td>Ray Mann, managing director of the West Wales ...</td>\n",
       "      <td>False</td>\n",
       "      <td>False</td>\n",
       "      <td>False</td>\n",
       "      <td>False</td>\n",
       "      <td>False</td>\n",
       "      <td>{\\n    \"metadata\": [\\n        \"earliest_date\":...</td>\n",
       "      <td>United, Kingdom</td>\n",
       "      <td>2020</td>\n",
       "      <td>0</td>\n",
       "      <td>0</td>\n",
       "    </tr>\n",
       "    <tr>\n",
       "      <th>1508</th>\n",
       "      <td>\"These changes will also strengthen laws gover...</td>\n",
       "      <td>False</td>\n",
       "      <td>False</td>\n",
       "      <td>False</td>\n",
       "      <td>False</td>\n",
       "      <td>False</td>\n",
       "      <td>{\\n    \"metadata\": {\\n        \"earliest_date\":...</td>\n",
       "      <td>Singapore</td>\n",
       "      <td>0</td>\n",
       "      <td>0</td>\n",
       "      <td>0</td>\n",
       "    </tr>\n",
       "  </tbody>\n",
       "</table>\n",
       "<p>1509 rows × 11 columns</p>\n",
       "</div>"
      ],
      "text/plain": [
       "                                                   text  terrorism  security  \\\n",
       "0     Starbucks violated federal labor law when it i...      False     False   \n",
       "1     The first suspect to plead guilty in Singapore...      False     False   \n",
       "2     Meta has been fined a record-breaking €1.2 bil...      False     False   \n",
       "3     SINGAPORE: A 45-year-old man linked to Singapo...      False     False   \n",
       "4     The Department of Education imposed a record $...      False      True   \n",
       "...                                                 ...        ...       ...   \n",
       "1504  NOT A SURPRISE FOR INDUSTRY FOLLOWERS..It is h...      False     False   \n",
       "1505  Ahead of the Tokyo 2020 Olympics, Japan prohib...      False     False   \n",
       "1506  At a court hearing on Monday in the city of Ki...      False     False   \n",
       "1507  Ray Mann, managing director of the West Wales ...      False     False   \n",
       "1508  \"These changes will also strengthen laws gover...      False     False   \n",
       "\n",
       "      espionage  communalism  keyword  \\\n",
       "0         False        False    False   \n",
       "1         False        False    False   \n",
       "2         False        False    False   \n",
       "3         False        False    False   \n",
       "4         False        False     True   \n",
       "...         ...          ...      ...   \n",
       "1504      False        False    False   \n",
       "1505      False        False    False   \n",
       "1506      False        False    False   \n",
       "1507      False        False    False   \n",
       "1508      False        False    False   \n",
       "\n",
       "                                               response  \\\n",
       "0     {\\n    \"metadata\": [\\n        {\\n            \"...   \n",
       "1     {\\n    \"metadata\": {\\n        \"earliest_date\":...   \n",
       "2     {\\n    \"metadata\": [\\n        {\\n            \"...   \n",
       "3     {\\n    \"metadata\": {\\n        \"earliest_date\":...   \n",
       "4     {\\n  \"metadata\": [\\n    {\\n      \"earliest_dat...   \n",
       "...                                                 ...   \n",
       "1504  {\\n    \"metadata\": [\\n        {\\n            \"...   \n",
       "1505  {\\n    \"metadata\": [\\n        {\\n            \"...   \n",
       "1506  {\\n    \"metadata\": [\\n        \"earliest_date\":...   \n",
       "1507  {\\n    \"metadata\": [\\n        \"earliest_date\":...   \n",
       "1508  {\\n    \"metadata\": {\\n        \"earliest_date\":...   \n",
       "\n",
       "                            countries  year  month  day  \n",
       "0                                  NA     0      0    0  \n",
       "1          Singapore, Cambodia, China  2019      4    2  \n",
       "2     European, Union, United, States     0      0    0  \n",
       "3                           Singapore  2019      4   30  \n",
       "4            United, States, Virginia  2022      0    0  \n",
       "...                               ...   ...    ...  ...  \n",
       "1504                         Malaysia     0      0    0  \n",
       "1505      Japan, Australia, Singapore  2019      0    0  \n",
       "1506                          Germany  2015      7    1  \n",
       "1507                  United, Kingdom  2020      0    0  \n",
       "1508                        Singapore     0      0    0  \n",
       "\n",
       "[1509 rows x 11 columns]"
      ]
     },
     "execution_count": 24,
     "metadata": {},
     "output_type": "execute_result"
    }
   ],
   "source": [
    "news"
   ]
  },
  {
   "cell_type": "code",
   "execution_count": 25,
   "id": "845829d4-e655-4c6f-98db-91f744eda03b",
   "metadata": {
    "execution": {
     "iopub.execute_input": "2025-01-26T12:28:30.404754Z",
     "iopub.status.busy": "2025-01-26T12:28:30.403681Z",
     "iopub.status.idle": "2025-01-26T12:28:30.433810Z",
     "shell.execute_reply": "2025-01-26T12:28:30.433810Z",
     "shell.execute_reply.started": "2025-01-26T12:28:30.403681Z"
    }
   },
   "outputs": [],
   "source": [
    "news.to_csv('processed_news_2.csv', index= False)\n",
    "leaks.to_csv('processed_leaks_2.csv', index= False)"
   ]
  },
  {
   "cell_type": "code",
   "execution_count": 35,
   "id": "9fb11715-d5a9-4610-a448-2e2fbf6bafd5",
   "metadata": {
    "execution": {
     "iopub.execute_input": "2025-01-26T12:34:37.473376Z",
     "iopub.status.busy": "2025-01-26T12:34:37.473376Z",
     "iopub.status.idle": "2025-01-26T12:34:38.495843Z",
     "shell.execute_reply": "2025-01-26T12:34:38.495843Z",
     "shell.execute_reply.started": "2025-01-26T12:34:37.473376Z"
    }
   },
   "outputs": [
    {
     "name": "stdout",
     "output_type": "stream",
     "text": [
      "Uploading processed_leaks_2.csv to s3://bia-datathon-structured/processed_leaks_2.csv\n",
      "Uploading processed_news_2.csv to s3://bia-datathon-structured/processed_news_2.csv\n",
      "All files uploaded successfully!\n"
     ]
    }
   ],
   "source": [
    "upload_files_to_s3('bia-datathon-structured', folder_path)"
   ]
  }
 ],
 "metadata": {
  "kernelspec": {
   "display_name": "Python 3 (ipykernel)",
   "language": "python",
   "name": "python3"
  },
  "language_info": {
   "codemirror_mode": {
    "name": "ipython",
    "version": 3
   },
   "file_extension": ".py",
   "mimetype": "text/x-python",
   "name": "python",
   "nbconvert_exporter": "python",
   "pygments_lexer": "ipython3",
   "version": "3.11.9"
  }
 },
 "nbformat": 4,
 "nbformat_minor": 5
}
